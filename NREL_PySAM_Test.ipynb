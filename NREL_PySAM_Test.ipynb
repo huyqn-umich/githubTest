{
  "nbformat": 4,
  "nbformat_minor": 0,
  "metadata": {
    "colab": {
      "provenance": [],
      "authorship_tag": "ABX9TyPA7Nk8PFyaS/oga01/diUj",
      "include_colab_link": true
    },
    "kernelspec": {
      "name": "python3",
      "display_name": "Python 3"
    },
    "language_info": {
      "name": "python"
    }
  },
  "cells": [
    {
      "cell_type": "markdown",
      "metadata": {
        "id": "view-in-github",
        "colab_type": "text"
      },
      "source": [
        "<a href=\"https://colab.research.google.com/github/huyqn-umich/githubTest/blob/main/NREL_PySAM_Test.ipynb\" target=\"_parent\"><img src=\"https://colab.research.google.com/assets/colab-badge.svg\" alt=\"Open In Colab\"/></a>"
      ]
    },
    {
      "cell_type": "code",
      "source": [
        "!pip install NREL-PySAM"
      ],
      "metadata": {
        "colab": {
          "base_uri": "https://localhost:8080/"
        },
        "id": "n-Ff3iFg7bc3",
        "outputId": "64df90d4-b41c-4550-9e1a-d16ab9709ef3"
      },
      "execution_count": 2,
      "outputs": [
        {
          "output_type": "stream",
          "name": "stdout",
          "text": [
            "Collecting NREL-PySAM\n",
            "  Downloading NREL_PySAM-5.1.0-cp310-cp310-manylinux2014_x86_64.whl (49.0 MB)\n",
            "\u001b[2K     \u001b[90m━━━━━━━━━━━━━━━━━━━━━━━━━━━━━━━━━━━━━━━━\u001b[0m \u001b[32m49.0/49.0 MB\u001b[0m \u001b[31m9.8 MB/s\u001b[0m eta \u001b[36m0:00:00\u001b[0m\n",
            "\u001b[?25hRequirement already satisfied: pandas in /usr/local/lib/python3.10/dist-packages (from NREL-PySAM) (2.0.3)\n",
            "Collecting python-dotenv (from NREL-PySAM)\n",
            "  Downloading python_dotenv-1.0.1-py3-none-any.whl (19 kB)\n",
            "Requirement already satisfied: requests in /usr/local/lib/python3.10/dist-packages (from NREL-PySAM) (2.31.0)\n",
            "Requirement already satisfied: python-dateutil>=2.8.2 in /usr/local/lib/python3.10/dist-packages (from pandas->NREL-PySAM) (2.8.2)\n",
            "Requirement already satisfied: pytz>=2020.1 in /usr/local/lib/python3.10/dist-packages (from pandas->NREL-PySAM) (2023.4)\n",
            "Requirement already satisfied: tzdata>=2022.1 in /usr/local/lib/python3.10/dist-packages (from pandas->NREL-PySAM) (2024.1)\n",
            "Requirement already satisfied: numpy>=1.21.0 in /usr/local/lib/python3.10/dist-packages (from pandas->NREL-PySAM) (1.25.2)\n",
            "Requirement already satisfied: charset-normalizer<4,>=2 in /usr/local/lib/python3.10/dist-packages (from requests->NREL-PySAM) (3.3.2)\n",
            "Requirement already satisfied: idna<4,>=2.5 in /usr/local/lib/python3.10/dist-packages (from requests->NREL-PySAM) (3.7)\n",
            "Requirement already satisfied: urllib3<3,>=1.21.1 in /usr/local/lib/python3.10/dist-packages (from requests->NREL-PySAM) (2.0.7)\n",
            "Requirement already satisfied: certifi>=2017.4.17 in /usr/local/lib/python3.10/dist-packages (from requests->NREL-PySAM) (2024.6.2)\n",
            "Requirement already satisfied: six>=1.5 in /usr/local/lib/python3.10/dist-packages (from python-dateutil>=2.8.2->pandas->NREL-PySAM) (1.16.0)\n",
            "Installing collected packages: python-dotenv, NREL-PySAM\n",
            "Successfully installed NREL-PySAM-5.1.0 python-dotenv-1.0.1\n"
          ]
        }
      ]
    },
    {
      "cell_type": "code",
      "source": [
        "import PySAM.Pvwattsv8 as pvwatts\n",
        "import PySAM.Grid as grd"
      ],
      "metadata": {
        "id": "eV1y27RD7h0G"
      },
      "execution_count": 4,
      "outputs": []
    },
    {
      "cell_type": "code",
      "source": [
        "pv_model = pvwatts.default(\"PVWattsNone\")\n",
        "grid_model = grd.from_existing(pv_model, \"PVWattsNone\")"
      ],
      "metadata": {
        "id": "xCBe_RqH727f"
      },
      "execution_count": 7,
      "outputs": []
    },
    {
      "cell_type": "code",
      "source": [
        "pv_model.SystemDesign.system_capacity = 540\n",
        "wf = \"/content/1301_Beal_Ave_Ann_Arbor_MI_48109_psm3-5min_5_2022.csv\"\n",
        "pv_model.SolarResource.solar_resource_file = wf"
      ],
      "metadata": {
        "id": "wt3gKfuX8du1"
      },
      "execution_count": 8,
      "outputs": []
    },
    {
      "cell_type": "code",
      "source": [
        "pv_model.execute()\n",
        "grid_model.execute()"
      ],
      "metadata": {
        "id": "DC_c9l8t81gO"
      },
      "execution_count": 13,
      "outputs": []
    },
    {
      "cell_type": "code",
      "source": [
        "pv_model.Outputs.annual_energy"
      ],
      "metadata": {
        "colab": {
          "base_uri": "https://localhost:8080/"
        },
        "id": "KoxkJdu09EK-",
        "outputId": "ba1b0156-2e1d-42f2-8688-b73e78e42309"
      },
      "execution_count": 14,
      "outputs": [
        {
          "output_type": "execute_result",
          "data": {
            "text/plain": [
              "682480.0522112136"
            ]
          },
          "metadata": {},
          "execution_count": 14
        }
      ]
    },
    {
      "cell_type": "code",
      "source": [],
      "metadata": {
        "colab": {
          "base_uri": "https://localhost:8080/"
        },
        "id": "JWibeDWY84Sl",
        "outputId": "ff8ce742-fe0e-461a-c29c-a9dfed378c80"
      },
      "execution_count": 10,
      "outputs": [
        {
          "output_type": "execute_result",
          "data": {
            "text/plain": [
              "<Pvwattsv8 at 0x7d08c9aae1f0>"
            ]
          },
          "metadata": {},
          "execution_count": 10
        }
      ]
    },
    {
      "cell_type": "code",
      "source": [],
      "metadata": {
        "id": "go6DAeMJ8-FB"
      },
      "execution_count": null,
      "outputs": []
    }
  ]
}